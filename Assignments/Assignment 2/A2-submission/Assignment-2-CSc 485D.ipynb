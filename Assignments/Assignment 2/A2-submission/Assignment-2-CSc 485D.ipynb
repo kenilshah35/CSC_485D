{
 "cells": [
  {
   "cell_type": "markdown",
   "id": "c1fb19d3",
   "metadata": {},
   "source": [
    "CarMDP Environment, which is provided for your convenience. You should not change code of this environment. Note that this CarMDP environment will be re-used for Asssignment 3 (Model-free). For Assignment 2 (Model-based), some parameters/functions may not be useful.  \n",
    "\n",
    "This Jupyter notebook is prepared by Kui Wu"
   ]
  },
  {
   "cell_type": "code",
   "execution_count": 3,
   "id": "2a1c45b2",
   "metadata": {},
   "outputs": [],
   "source": [
    "import numpy as np \n",
    "import matplotlib.pyplot as plt\n",
    "import gym\n",
    "import random\n",
    "\n",
    "from gym import Env\n",
    "\n",
    "class CarMDP(Env):\n",
    "    \"\"\"\n",
    "    Car MDP with simple stochastic dynamics.\n",
    "    The states are tuples with two elements:\n",
    "        - a position index (i, j)\n",
    "        - an integer from (0, 1, 2, 3) representing absolute orientation (see self.orientations in __init__ below)\n",
    "    For example, the state\n",
    "        s = (0, 1, 2)\n",
    "    represents the car in the cell with indices (0, 1) and oriented to face the South.\n",
    "    \"\"\"\n",
    "    def __init__(self, width, height, obstacles, goal_transition, initial_state, p_corr, base_reward=-0.01,\n",
    "                 collision_reward=-5., goal_reward=10., stagnation_penalty=-0.01):\n",
    "        self.width = width\n",
    "        self.height = height\n",
    "        self.grid_map = np.ones((width, height))\n",
    "        for cell in obstacles:\n",
    "            self.grid_map[cell[0], cell[1]] = 0.\n",
    "        self.obstacles = obstacles\n",
    "        self.orientations = {0: 'North', 1: 'East', 2: 'South', 3: 'West'}\n",
    "        self.A = {0: 'Forward', 1: 'Left', 2: 'Right', 3: 'Brake'}\n",
    "        self.goal_transition = goal_transition  # Tuple containing start and end state for the 'goal transition'\n",
    "\n",
    "        self.p_corr = p_corr\n",
    "        self.p_err = (1. - p_corr)/2.\n",
    "\n",
    "        self.base_reward = base_reward\n",
    "        self.collision_reward = collision_reward\n",
    "        self.goal_reward = goal_reward\n",
    "        self.stagnation_penalty = stagnation_penalty\n",
    "        self.state_history = []\n",
    "        self.action_history = []\n",
    "        self.reward_history = []\n",
    "        \n",
    "        assert initial_state[0] >= 0 and initial_state[1] >= 0 and initial_state[0] < self.width and initial_state[1] < self.height and \\\n",
    "               initial_state[2] in self.orientations, \"ERROR: initial state {:} is not valid.\".format(init_state)\n",
    "        self.state_history = [initial_state]\n",
    "        self.action_history = []\n",
    "        self.reward_history = []\n",
    "        self.init_state=initial_state\n",
    "    \n",
    "       \n",
    "    def reset(self):\n",
    "        self.state_history = [self.init_state]\n",
    "        self.action_history = []\n",
    "        self.reward_history = []\n",
    "\n",
    "    def is_collision(self, state):\n",
    "        is_out_of_bounds = state[0] < 0 or state[0] >= self.width or state[1] < 0 or \\\n",
    "             state[1] >= self.height\n",
    "        return is_out_of_bounds or (state[0], state[1]) in self.obstacles\n",
    "\n",
    "    def transition_dynamics(self, state, action):\n",
    "        assert not self.is_collision(state), \"ERROR: can't take an action from a non-state.\"\n",
    "        delta = 1\n",
    "        orientation = state[2]\n",
    "\n",
    "        if self.orientations[orientation] == 'North':\n",
    "            left = (state[0] - delta, state[1] - delta)\n",
    "            forward = (state[0], state[1] - delta)\n",
    "            right = (state[0] + delta, state[1] - delta)\n",
    "        elif self.orientations[orientation] == 'West':\n",
    "            left = (state[0] - delta, state[1] + delta)\n",
    "            forward = (state[0] - delta, state[1])\n",
    "            right = (state[0] - delta, state[1] - delta)\n",
    "        elif self.orientations[orientation] == 'South':\n",
    "            left = (state[0] + delta, state[1] + delta)\n",
    "            forward = (state[0], state[1] + delta)\n",
    "            right = (state[0] - delta, state[1] + delta)\n",
    "        elif self.orientations[orientation] == 'East':\n",
    "            left = (state[0] + delta, state[1] - delta)\n",
    "            forward = (state[0] + delta, state[1])\n",
    "            right = (state[0] + delta, state[1] + delta)\n",
    "\n",
    "        # p gives categorical distribution over (state, left, forward, right)\n",
    "        if self.A[action] == 'Forward':\n",
    "            p = np.array([0., self.p_err, self.p_corr, self.p_err])\n",
    "        elif self.A[action] == 'Right':\n",
    "            p = np.array([0., 0., 2.*self.p_err, self.p_corr])\n",
    "        elif self.A[action] == 'Left':\n",
    "            p = np.array([0., self.p_corr, 2. * self.p_err, 0.])\n",
    "        elif self.A[action] == 'Brake':\n",
    "            p = np.array([self.p_corr, 0., 2. * self.p_err, 0.])\n",
    "\n",
    "        candidate_next_state_positions = (state, left, forward, right)\n",
    "        next_state_position = candidate_next_state_positions[categorical_sample_index(p)]\n",
    "\n",
    "        # Handle orientation dynamics (deterministic)\n",
    "        new_orientation = orientation\n",
    "        if self.A[action] == 'Right':\n",
    "            new_orientation = (orientation + 1) % 4\n",
    "        elif self.A[action] == 'Left':\n",
    "            new_orientation = (orientation - 1) % 4\n",
    "\n",
    "        return next_state_position[0], next_state_position[1], new_orientation\n",
    "\n",
    "    \"\"\"The step function is useful for Assignment 3: model-free based sampling method\"\"\"\n",
    "    def step(self, action):\n",
    "        assert action in self.A, f\"ERROR: action {action} not permitted\"\n",
    "        terminal = False\n",
    "        current_state = self.state_history[-1] # -1 means the current element\n",
    "        next_state = self.transition_dynamics(current_state, action)\n",
    "        if self.is_collision(next_state):\n",
    "            reward = self.collision_reward\n",
    "            terminal = True\n",
    "        elif (current_state[0], current_state[1]) == self.goal_transition[0] and \\\n",
    "                (next_state[0], next_state[1]) == self.goal_transition[1]:\n",
    "            reward = self.goal_reward\n",
    "            terminal = True  # TODO: allow multiple laps like this?\n",
    "        elif current_state == next_state:\n",
    "            reward = self.stagnation_penalty\n",
    "            terminal = False\n",
    "        else:\n",
    "            reward = self.base_reward\n",
    "            terminal = False\n",
    "\n",
    "        self.state_history.append(next_state)\n",
    "        self.reward_history.append(reward)\n",
    "        self.action_history.append(action)\n",
    "\n",
    "        return next_state, reward, terminal, []\n",
    "\n",
    "    def render(self, title):\n",
    "        self._plot_history(title)\n",
    "    \n",
    "    def _plot_history(self, title):\n",
    "        \"\"\"\n",
    "        Plot the MDP's trajectory on the grid map.\n",
    "        :param title:\n",
    "        Note that the grid intersection points denote the position of location, e.g., [2,2] is the center of \n",
    "        an obstacle drawn in grey box.\n",
    "        \"\"\"\n",
    "        \n",
    "        fig = plt.figure()\n",
    "        plt.imshow(self.grid_map.T, cmap='gray')\n",
    "        plt.grid()\n",
    "        fig.tight_layout()\n",
    "        \n",
    "        \n",
    "        x = np.zeros(len(self.state_history))\n",
    "        y = np.zeros(x.shape)\n",
    "        for idx in range(len(x)):\n",
    "            x[idx] = self.state_history[idx][0]\n",
    "            y[idx] = self.state_history[idx][1]\n",
    "            if self.state_history[idx][2] == 0:\n",
    "                plt.arrow(x[idx], y[idx], 0., -0.25, width=0.1)\n",
    "            elif self.state_history[idx][2] == 1:\n",
    "                plt.arrow(x[idx], y[idx], 0.25, 0., width=0.1)\n",
    "            elif self.state_history[idx][2] == 2:\n",
    "                plt.arrow(x[idx], y[idx], 0., 0.25, width=0.1)\n",
    "            else:\n",
    "                plt.arrow(x[idx], y[idx], -0.25, 0., width=0.1)\n",
    "\n",
    "        plt.plot(x, y, 'b-')  # Plot trajectory\n",
    "        plt.xlim([-0.5, self.width + 0.5])\n",
    "        plt.ylim([self.height + 0.5, -0.5])\n",
    "        plt.title(title)\n",
    "        plt.xlabel('x')\n",
    "        plt.ylabel('y')\n",
    "    \n",
    "        \n",
    "        plt.show()\n",
    "        return fig\n",
    "\n",
    "\n",
    "def categorical_sample_index(p: np.ndarray) -> int:\n",
    "    \"\"\"\n",
    "    Sample a categorical distribution.\n",
    "\n",
    "    :param p: a categorical distribution's probability mass function (i.e., p[idx] is the probability of this function\n",
    "              returning idx for an integer 0 <= idx < len(p)). I.e., np.sum(p) == 1 and p[idx] >= 0 for 0<=idx<len(p).\n",
    "    :return: index of a sample weighted by the categorical distribution described by p\n",
    "    \"\"\"\n",
    "    P = np.cumsum(p)\n",
    "    sample = np.random.rand()\n",
    "    return np.argmax(P > sample)"
   ]
  },
  {
   "cell_type": "markdown",
   "id": "e7614125",
   "metadata": {},
   "source": [
    "Below is the skeleton code of your agent. Your solution should be filled here. In Assignment 2, we assume that the agent is aware of the model (e.g., the transition dynamics, the size of the state space, the rewards for actions, the obstacles). You need to (1) implement Iterative Policy Evaluation to find the state values for the Random policy (the policy that takes each action uniformly random among the four possible actions). Then, starting with the state values of the Random policy, you (2) implement the Policy Iteration method to find the optimal policy. Take your freedom to determine your criteria for convergence, which is part of the job in training machine learning models. "
   ]
  },
  {
   "cell_type": "code",
   "execution_count": 45,
   "id": "52e2050f",
   "metadata": {},
   "outputs": [],
   "source": [
    "class ModelBasedRLAgent:\n",
    "    \"\"\"\n",
    "    Your implementation of a reinforcement learning agent.\n",
    "    Feel free to add additional methods and attributes.\n",
    "    \"\"\"\n",
    "    def __init__(self, car_mdp):\n",
    "        ### STUDENT CODE GOES HERE\n",
    "        # Set any parameters\n",
    "        # You can add arguments to __init__, so log as they have default values (e.g., epsilon=0.1)\n",
    "        self.env=car_mdp\n",
    "        self.policy = np.ones([self.env.width*self.env.height, 4])/4\n",
    "        self.shape = (self.env.width, self.env.height)\n",
    "        self._valueEvaluation() # After this call, the optimal policy should be found and stored for test purpose. \n",
    "\n",
    "    def reset(self, init_state) -> int:\n",
    "        \"\"\"\n",
    "        Called at the start of each episode.\n",
    "\n",
    "        :param init_state:\n",
    "        :return: first action to take.\n",
    "        \"\"\"\n",
    "        ### STUDENT CODE GOES HERE\n",
    "        return np.random.randint(4) # Random policy (CHANGE THIS WITH THE OPTIMAL POLICY OBTAINED WITH VALUE ITERATION)\n",
    "   \n",
    "    def _policyEvaluation(self):\n",
    "       ### STUDENT CODE GOES HERE\n",
    "        ###replaced with your code\n",
    "       ### YOU NEED TO PRINT OUT THE FINAL OUTPUT OF STATE VALUES \n",
    "       ### IN THE FORMAT OF [STATE: VALUE] WHERE STATE IS DENOTED BY (X,Y,ORITENTATION)\n",
    "        \n",
    "        nstates = self.env.width*self.env.height\n",
    "        threshold = 0.00001\n",
    "        V = np.zeros(nstates)\n",
    "        state_value = {}\n",
    "        while True:\n",
    "            diff = 0\n",
    "            \n",
    "            for s in range(nstates):\n",
    "                value = 0\n",
    "                \n",
    "                for a,pa in enumerate(self.policy[s]):\n",
    "                    \n",
    "                    try:\n",
    "                        next_state, reward, terminal, [] = self.env.step(a)\n",
    "                    except:\n",
    "                        reward = -5\n",
    "                        next_state = self.env.state_history[-1]\n",
    "                        terminal = True\n",
    "                        \n",
    "                    orientation = next_state[2]\n",
    "                    next_state = (next_state[0], next_state[1])\n",
    "                    next_state = np.ravel_multi_index(tuple(next_state), self.shape)\n",
    "                    \n",
    "                    value += pa*1.0*(reward + V[next_state])\n",
    "                    if terminal:\n",
    "                        break\n",
    "                \n",
    "                diff = max(diff, np.abs(value - V[s]))\n",
    "                V[s] = value\n",
    "                state = np.unravel_index(s,self.shape)\n",
    "                state_value[tuple(state)] = value\n",
    "            \n",
    "            if diff<threshold:\n",
    "                break\n",
    "        #print(state_value)        \n",
    "        return state_value\n",
    "            \n",
    "        \n",
    "    \n",
    "    def _valueEvaluation(self):\n",
    "        self._policyEvaluation()\n",
    "        ## STUDENT CODE GOES HERE\n",
    "       ### YOU NEED TO PRINT OUT THE FINAL OUTPUT OF THE OPTIMAL (DETERMINISTIC) POLICY \n",
    "       ### IN THE FORMAT OF [STATE: ACTION] WHERE STATE IS DENOTED BY (X,Y,ORITENTATION)\n",
    "    \n",
    "    def next_action(self, reward: float, state: int, terminal: bool) -> int:\n",
    "        \"\"\"\n",
    "        Called during each time step of a reinforcement learning episode\n",
    "\n",
    "        :param reward: reward resulting from the last time step's action\n",
    "        :param state: state resulting from the last time step's action\n",
    "        :param terminal: bool indicating whether state is a terminal state\n",
    "        :return: next action to take\n",
    "        \"\"\"\n",
    "        ### STUDENT CODE GOES HERE\n",
    "        # Produce the next action to take in an episode as a function of the observed reward and state\n",
    "        # You may find it useful to track past actions, states, and rewards\n",
    "        # Additionally, algorithms that learn during an episode (e.g., temporal difference) may find use for this method\n",
    "        return np.random.randint(4)  # Random policy (CHANGE THIS WITH THE OPTIMAL POLICY OBTAINED WITH VALUE ITERATION).\n",
    "    \n",
    "        \n",
    "\n",
    "    def finish_episode(self):\n",
    "        \"\"\"\n",
    "        Called at the end of each episode.\n",
    "        :return: nothing\n",
    "        \"\"\"\n",
    "        # Algorithms that learn from an entire episode may find a use for this method\n",
    "        pass\n"
   ]
  },
  {
   "cell_type": "markdown",
   "id": "4be9aff2",
   "metadata": {},
   "source": [
    "The following test code creates the CarMDP environment with pre-defined obstacles. You should not change the code below.  "
   ]
  },
  {
   "cell_type": "code",
   "execution_count": null,
   "id": "c747474d",
   "metadata": {},
   "outputs": [],
   "source": []
  },
  {
   "cell_type": "code",
   "execution_count": 46,
   "id": "d3b2c897",
   "metadata": {},
   "outputs": [
    {
     "data": {
      "image/png": "[encoded data removed]",
      "text/plain": [
       "<Figure size 432x288 with 1 Axes>"
      ]
     },
     "metadata": {
      "needs_background": "light"
     },
     "output_type": "display_data"
    },
    {
     "data": {
      "image/png": "[encoded data removed]",
      "text/plain": [
       "<Figure size 432x288 with 1 Axes>"
      ]
     },
     "metadata": {
      "needs_background": "light"
     },
     "output_type": "display_data"
    },
    {
     "data": {
      "image/png": "[encoded data removed]",
      "text/plain": [
       "<Figure size 432x288 with 1 Axes>"
      ]
     },
     "metadata": {
      "needs_background": "light"
     },
     "output_type": "display_data"
    },
    {
     "data": {
      "image/png": "[encoded data removed]",
      "text/plain": [
       "<Figure size 432x288 with 1 Axes>"
      ]
     },
     "metadata": {
      "needs_background": "light"
     },
     "output_type": "display_data"
    },
    {
     "data": {
      "image/png": "[encoded data removed]",
      "text/plain": [
       "<Figure size 432x288 with 1 Axes>"
      ]
     },
     "metadata": {
      "needs_background": "light"
     },
     "output_type": "display_data"
    },
    {
     "data": {
      "image/png": "[encoded data removed]",
      "text/plain": [
       "<Figure size 432x288 with 1 Axes>"
      ]
     },
     "metadata": {
      "needs_background": "light"
     },
     "output_type": "display_data"
    },
    {
     "data": {
      "image/png": "[encoded data removed]",
      "text/plain": [
       "<Figure size 432x288 with 1 Axes>"
      ]
     },
     "metadata": {
      "needs_background": "light"
     },
     "output_type": "display_data"
    },
    {
     "data": {
      "image/png": "[encoded data removed]",
      "text/plain": [
       "<Figure size 432x288 with 1 Axes>"
      ]
     },
     "metadata": {
      "needs_background": "light"
     },
     "output_type": "display_data"
    },
    {
     "data": {
      "image/png": "[encoded data removed]",
      "text/plain": [
       "<Figure size 432x288 with 1 Axes>"
      ]
     },
     "metadata": {
      "needs_background": "light"
     },
     "output_type": "display_data"
    },
    {
     "name": "stdout",
     "output_type": "stream",
     "text": [
      "My average= -5.01086\n"
     ]
    }
   ],
   "source": [
    "def test_rl_algorithm(rl_agent, car_mdp, initial_state, n_episodes=10000, n_plot=np.inf):\n",
    "    \"\"\"\n",
    "    Code that will be used to test your implementation of ModelBasedRLAgent.\n",
    "\n",
    "    :param rl_agent: an instance of your ReinforcementLearningAgent class\n",
    "    :param car_mdp: an instance of CarMDP\n",
    "    :param init_state: the initial state\n",
    "    :param n_episodes: number of episodes to use for this test\n",
    "    :param n_plot: display a plot every n_plot episodes\n",
    "    :return:\n",
    "    \"\"\"\n",
    "    returns = []\n",
    "    for episode in range(n_episodes):\n",
    "        G = 0.  # Keep track of the returns for this episode (discount factor gamma=1)\n",
    "        # Re-initialize the MDP and the RL agent\n",
    "        car_mdp.reset();\n",
    "        action = rl_agent.reset(initial_state)\n",
    "        terminal = False\n",
    "        while not terminal:  # Loop until a terminal state is reached\n",
    "            next_state, reward, terminal, [] = car_mdp.step(action)\n",
    "            G += reward\n",
    "            action = rl_agent.next_action(reward, next_state, terminal)\n",
    "        rl_agent.finish_episode()\n",
    "        returns += [G]\n",
    "\n",
    "        # Plot the trajectory every n_plot episodes\n",
    "        if episode % n_plot == 0 and episode > 0:\n",
    "            car_mdp.render('State History ' + str(episode + 1))\n",
    "\n",
    "    return returns\n",
    "\n",
    "\n",
    "if __name__ == '__main__':\n",
    "\n",
    "    # Size of the CarMDP map (any cell outside of this rectangle is a terminal state)\n",
    "    width = 5\n",
    "    height = 4\n",
    "    initial_state = (0, 0, 2)  # Top left corner (0, 0), facing \"Down\" (2)\n",
    "    obstacles = [(2, 2), (4, 2),(1, 1), (1, 2)]  # Cells filled with obstacles are terminal states\n",
    "                 \n",
    "    goal_transition = ((1, 0), (0, 0))  # Transitioning from cell (1, 0) to cell (0, 0) terminates and gives a reward\n",
    "    p_corr = 0.95  # Probability of actions working as intended\n",
    "    \n",
    "  # Create environment\n",
    "    car_mdp = CarMDP(width, height, obstacles, goal_transition, initial_state, p_corr=p_corr)\n",
    "  \n",
    " # Create RL agent. # You must complete this class in your solution\n",
    " \n",
    "    rl_agent = ModelBasedRLAgent(car_mdp)  \n",
    "    \n",
    "   \n",
    "    student_returns = test_rl_algorithm(rl_agent, car_mdp, initial_state, n_episodes=1000, n_plot=100)\n",
    "    \n",
    "    print(\"My average=\", np.average(student_returns))\n",
    "\n"
   ]
  },
  {
   "cell_type": "code",
   "execution_count": null,
   "id": "fbe0a715",
   "metadata": {},
   "outputs": [],
   "source": []
  },
  {
   "cell_type": "code",
   "execution_count": null,
   "id": "ac97f4af",
   "metadata": {},
   "outputs": [],
   "source": []
  }
 ],
 "metadata": {
  "kernelspec": {
   "display_name": "Python 3 (ipykernel)",
   "language": "python",
   "name": "python3"
  },
  "language_info": {
   "codemirror_mode": {
    "name": "ipython",
    "version": 3
   },
   "file_extension": ".py",
   "mimetype": "text/x-python",
   "name": "python",
   "nbconvert_exporter": "python",
   "pygments_lexer": "ipython3",
   "version": "3.8.12"
  }
 },
 "nbformat": 4,
 "nbformat_minor": 5
}
